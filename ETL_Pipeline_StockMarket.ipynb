{
 "cells": [
  {
   "cell_type": "markdown",
   "metadata": {},
   "source": [
    "# ETL Pipeline Preparation\n",
    "The Following code creates the ETL pipeline that generates the processed data for the Machine learning Algorithm\n",
    "### 1. Import libraries and load datasets.\n",
    "- Import Python libraries\n",
    "- Load `data/EURUSD_M1.csv` into a dataframe 1 Minute Transaction.\n",
    "- Load `data/EURUSD_M5.csv` into a dataframe 5 Minute Transaction.\n",
    "- Load `data/EURUSD_M15.csv` into a dataframe 15 Minute Transaction.\n",
    "- Load `data/EURUSD_M30.csv` into a dataframe 30 Minute Transaction."
   ]
  },
  {
   "cell_type": "code",
   "execution_count": 19,
   "metadata": {},
   "outputs": [],
   "source": [
    "# Import pandas Library\n",
    "import pandas as pd"
   ]
  },
  {
   "cell_type": "code",
   "execution_count": 20,
   "metadata": {},
   "outputs": [],
   "source": [
    "# Load the datasets \n",
    "df_M1 = pd.read_csv(\"data/EURUSD_M1.csv\")\n",
    "df_M5 = pd.read_csv(\"data/EURUSD_M5.csv\")\n",
    "df_M15 = pd.read_csv(\"data/EURUSD_M15.csv\")\n",
    "df_M30 = pd.read_csv(\"data/EURUSD_M30.csv\")"
   ]
  },
  {
   "cell_type": "code",
   "execution_count": 30,
   "metadata": {},
   "outputs": [],
   "source": [
    "def split_data(df):\n",
    "    \"\"\"Splits the dataset in to columns and process the timestamp to day, month and year\n",
    "    INPUT: (pandas dataframe) trade dataset with single joined column separated by \\t\n",
    "    OUTPUT: (pandas dataframe) trade dataset with multiple column that containing Time, Open, High, Low, Close\n",
    "    \"\"\"    \n",
    "    columns = df_M1.columns[0].split(\"\\t\")\n",
    "    # create a dataframe of the merged data\n",
    "    df = df[df.columns[0]].str.split('\\t', expand=True)\n",
    "    df.columns = columns\n",
    "    df['Time'] = pd.to_datetime(df['Time']) \n",
    "    df['Day'] = df.Time.apply(lambda x: x.day)\n",
    "    df['Month'] = df.Time.apply(lambda x: x.month)\n",
    "    df['Year'] = df.Time.apply(lambda x: x.year)\n",
    "    return df   "
   ]
  },
  {
   "cell_type": "code",
   "execution_count": 31,
   "metadata": {},
   "outputs": [
    {
     "data": {
      "text/html": [
       "<div>\n",
       "<style scoped>\n",
       "    .dataframe tbody tr th:only-of-type {\n",
       "        vertical-align: middle;\n",
       "    }\n",
       "\n",
       "    .dataframe tbody tr th {\n",
       "        vertical-align: top;\n",
       "    }\n",
       "\n",
       "    .dataframe thead th {\n",
       "        text-align: right;\n",
       "    }\n",
       "</style>\n",
       "<table border=\"1\" class=\"dataframe\">\n",
       "  <thead>\n",
       "    <tr style=\"text-align: right;\">\n",
       "      <th></th>\n",
       "      <th>Time</th>\n",
       "      <th>Open</th>\n",
       "      <th>High</th>\n",
       "      <th>Low</th>\n",
       "      <th>Close</th>\n",
       "      <th>Volume</th>\n",
       "      <th>Day</th>\n",
       "      <th>Month</th>\n",
       "      <th>Year</th>\n",
       "    </tr>\n",
       "  </thead>\n",
       "  <tbody>\n",
       "    <tr>\n",
       "      <th>0</th>\n",
       "      <td>2020-04-27 04:40:00</td>\n",
       "      <td>1.08418</td>\n",
       "      <td>1.08419</td>\n",
       "      <td>1.08405</td>\n",
       "      <td>1.08412</td>\n",
       "      <td>154</td>\n",
       "      <td>27</td>\n",
       "      <td>4</td>\n",
       "      <td>2020</td>\n",
       "    </tr>\n",
       "    <tr>\n",
       "      <th>1</th>\n",
       "      <td>2020-04-27 04:41:00</td>\n",
       "      <td>1.08413</td>\n",
       "      <td>1.08426</td>\n",
       "      <td>1.08412</td>\n",
       "      <td>1.08422</td>\n",
       "      <td>67</td>\n",
       "      <td>27</td>\n",
       "      <td>4</td>\n",
       "      <td>2020</td>\n",
       "    </tr>\n",
       "    <tr>\n",
       "      <th>2</th>\n",
       "      <td>2020-04-27 04:42:00</td>\n",
       "      <td>1.08422</td>\n",
       "      <td>1.08422</td>\n",
       "      <td>1.08415</td>\n",
       "      <td>1.0842</td>\n",
       "      <td>64</td>\n",
       "      <td>27</td>\n",
       "      <td>4</td>\n",
       "      <td>2020</td>\n",
       "    </tr>\n",
       "    <tr>\n",
       "      <th>3</th>\n",
       "      <td>2020-04-27 04:43:00</td>\n",
       "      <td>1.0842</td>\n",
       "      <td>1.0842</td>\n",
       "      <td>1.08412</td>\n",
       "      <td>1.08413</td>\n",
       "      <td>61</td>\n",
       "      <td>27</td>\n",
       "      <td>4</td>\n",
       "      <td>2020</td>\n",
       "    </tr>\n",
       "    <tr>\n",
       "      <th>4</th>\n",
       "      <td>2020-04-27 04:44:00</td>\n",
       "      <td>1.08414</td>\n",
       "      <td>1.08425</td>\n",
       "      <td>1.08414</td>\n",
       "      <td>1.08421</td>\n",
       "      <td>98</td>\n",
       "      <td>27</td>\n",
       "      <td>4</td>\n",
       "      <td>2020</td>\n",
       "    </tr>\n",
       "  </tbody>\n",
       "</table>\n",
       "</div>"
      ],
      "text/plain": [
       "                 Time     Open     High      Low    Close Volume  Day  Month  \\\n",
       "0 2020-04-27 04:40:00  1.08418  1.08419  1.08405  1.08412    154   27      4   \n",
       "1 2020-04-27 04:41:00  1.08413  1.08426  1.08412  1.08422     67   27      4   \n",
       "2 2020-04-27 04:42:00  1.08422  1.08422  1.08415   1.0842     64   27      4   \n",
       "3 2020-04-27 04:43:00   1.0842   1.0842  1.08412  1.08413     61   27      4   \n",
       "4 2020-04-27 04:44:00  1.08414  1.08425  1.08414  1.08421     98   27      4   \n",
       "\n",
       "   Year  \n",
       "0  2020  \n",
       "1  2020  \n",
       "2  2020  \n",
       "3  2020  \n",
       "4  2020  "
      ]
     },
     "execution_count": 31,
     "metadata": {},
     "output_type": "execute_result"
    }
   ],
   "source": [
    "df = split_data(df_M1)\n",
    "df.head()"
   ]
  },
  {
   "cell_type": "code",
   "execution_count": 25,
   "metadata": {},
   "outputs": [
    {
     "data": {
      "text/plain": [
       "0    27\n",
       "1    27\n",
       "2    27\n",
       "3    27\n",
       "4    27\n",
       "5    27\n",
       "6    27\n",
       "7    27\n",
       "8    27\n",
       "9    27\n",
       "Name: Time, dtype: int64"
      ]
     },
     "execution_count": 25,
     "metadata": {},
     "output_type": "execute_result"
    }
   ],
   "source": [
    "day[:10]"
   ]
  },
  {
   "cell_type": "code",
   "execution_count": 11,
   "metadata": {},
   "outputs": [],
   "source": [
    "# create a dataframe of the merged data\n",
    "df_M1 = df_M1[df_M1.columns[0]].str.split('\\t', expand=True)\n",
    "# df_M1.columns = df_M1.columns[0].split(\"\\t\")"
   ]
  },
  {
   "cell_type": "code",
   "execution_count": 13,
   "metadata": {},
   "outputs": [],
   "source": [
    "df_M1.columns = columns"
   ]
  },
  {
   "cell_type": "code",
   "execution_count": 16,
   "metadata": {},
   "outputs": [
    {
     "data": {
      "text/plain": [
       "Index(['Time', 'Open', 'High', 'Low', 'Close', 'Volume'], dtype='object')"
      ]
     },
     "execution_count": 16,
     "metadata": {},
     "output_type": "execute_result"
    }
   ],
   "source": [
    "df_M1.columns"
   ]
  },
  {
   "cell_type": "code",
   "execution_count": 17,
   "metadata": {},
   "outputs": [],
   "source": [
    "df_M1['Time'] = pd.to_datetime(df_M1['Time']) "
   ]
  },
  {
   "cell_type": "code",
   "execution_count": 18,
   "metadata": {},
   "outputs": [
    {
     "data": {
      "text/html": [
       "<div>\n",
       "<style scoped>\n",
       "    .dataframe tbody tr th:only-of-type {\n",
       "        vertical-align: middle;\n",
       "    }\n",
       "\n",
       "    .dataframe tbody tr th {\n",
       "        vertical-align: top;\n",
       "    }\n",
       "\n",
       "    .dataframe thead th {\n",
       "        text-align: right;\n",
       "    }\n",
       "</style>\n",
       "<table border=\"1\" class=\"dataframe\">\n",
       "  <thead>\n",
       "    <tr style=\"text-align: right;\">\n",
       "      <th></th>\n",
       "      <th>Time</th>\n",
       "      <th>Open</th>\n",
       "      <th>High</th>\n",
       "      <th>Low</th>\n",
       "      <th>Close</th>\n",
       "      <th>Volume</th>\n",
       "    </tr>\n",
       "  </thead>\n",
       "  <tbody>\n",
       "    <tr>\n",
       "      <th>0</th>\n",
       "      <td>2020-04-27 04:40:00</td>\n",
       "      <td>1.08418</td>\n",
       "      <td>1.08419</td>\n",
       "      <td>1.08405</td>\n",
       "      <td>1.08412</td>\n",
       "      <td>154</td>\n",
       "    </tr>\n",
       "    <tr>\n",
       "      <th>1</th>\n",
       "      <td>2020-04-27 04:41:00</td>\n",
       "      <td>1.08413</td>\n",
       "      <td>1.08426</td>\n",
       "      <td>1.08412</td>\n",
       "      <td>1.08422</td>\n",
       "      <td>67</td>\n",
       "    </tr>\n",
       "    <tr>\n",
       "      <th>2</th>\n",
       "      <td>2020-04-27 04:42:00</td>\n",
       "      <td>1.08422</td>\n",
       "      <td>1.08422</td>\n",
       "      <td>1.08415</td>\n",
       "      <td>1.0842</td>\n",
       "      <td>64</td>\n",
       "    </tr>\n",
       "    <tr>\n",
       "      <th>3</th>\n",
       "      <td>2020-04-27 04:43:00</td>\n",
       "      <td>1.0842</td>\n",
       "      <td>1.0842</td>\n",
       "      <td>1.08412</td>\n",
       "      <td>1.08413</td>\n",
       "      <td>61</td>\n",
       "    </tr>\n",
       "    <tr>\n",
       "      <th>4</th>\n",
       "      <td>2020-04-27 04:44:00</td>\n",
       "      <td>1.08414</td>\n",
       "      <td>1.08425</td>\n",
       "      <td>1.08414</td>\n",
       "      <td>1.08421</td>\n",
       "      <td>98</td>\n",
       "    </tr>\n",
       "  </tbody>\n",
       "</table>\n",
       "</div>"
      ],
      "text/plain": [
       "                 Time     Open     High      Low    Close Volume\n",
       "0 2020-04-27 04:40:00  1.08418  1.08419  1.08405  1.08412    154\n",
       "1 2020-04-27 04:41:00  1.08413  1.08426  1.08412  1.08422     67\n",
       "2 2020-04-27 04:42:00  1.08422  1.08422  1.08415   1.0842     64\n",
       "3 2020-04-27 04:43:00   1.0842   1.0842  1.08412  1.08413     61\n",
       "4 2020-04-27 04:44:00  1.08414  1.08425  1.08414  1.08421     98"
      ]
     },
     "execution_count": 18,
     "metadata": {},
     "output_type": "execute_result"
    }
   ],
   "source": [
    "\n",
    "    "
   ]
  },
  {
   "cell_type": "code",
   "execution_count": null,
   "metadata": {},
   "outputs": [],
   "source": []
  }
 ],
 "metadata": {
  "kernelspec": {
   "display_name": "Python 3",
   "language": "python",
   "name": "python3"
  },
  "language_info": {
   "codemirror_mode": {
    "name": "ipython",
    "version": 3
   },
   "file_extension": ".py",
   "mimetype": "text/x-python",
   "name": "python",
   "nbconvert_exporter": "python",
   "pygments_lexer": "ipython3",
   "version": "3.8.3"
  }
 },
 "nbformat": 4,
 "nbformat_minor": 2
}
